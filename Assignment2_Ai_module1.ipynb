{
 "cells": [
  {
   "cell_type": "markdown",
   "metadata": {},
   "source": [
    "<h3>Q no 1:  Write a python program to find number of occurrences of given number in a list with out using built-in methods</h3>\n",
    "<h4>**1 generate a list of some random num which is repeated again and again</h4>\n",
    "<h4>**2 take user input any number</h4>\n",
    "<h4>**3 find the number of occurrences of that num in your list</h4>\n",
    "<h4>**4 print some message to user with that result</h4>"
   ]
  },
  {
   "cell_type": "code",
   "execution_count": 14,
   "metadata": {},
   "outputs": [
    {
     "name": "stdout",
     "output_type": "stream",
     "text": [
      "Enter the number : 3\n",
      "This number is repeated  in list 2 times\n"
     ]
    }
   ],
   "source": [
    "\n",
    "random_num=[2,3,4,5,6,7,2,3,2] #generate a list of some random num which is repeated again and again\n",
    "user_input = input(\"Enter the number : \") #takes user input any number and press enter\n",
    "user_input=int(user_input)     #convert to intb/c input command  takes input as string bydefault\n",
    "count=0                        #initialize count to 0\n",
    "for repeated_number in random_num: #pulls each no. in the list 1by1 and temporarily assigns it to repeated_number\n",
    "    if  repeated_number == user_input:  #checks  whether the given  number  matches the variable repeated no.\n",
    "        count=count+1       #if true count is incremted ,loopruns,if false count is not incremented and loop runs again\n",
    "print(\"This number is repeated  in list\",str(count),\"times\") #when loop terminates print command runs.no more no.to check\n"
   ]
  },
  {
   "cell_type": "markdown",
   "metadata": {},
   "source": [
    "<h3>Q no 2:   [\"www.zframez.com\", \"www.wikipedia.org\", \"www.asp.net\", \"www.abcd.in\"]\n",
    "<br/><br/><br/><br/><br/>\n",
    "Write a python program to print website suffixes (com , org , net ,in) from this list\n",
    "</h3>"
   ]
  },
  {
   "cell_type": "code",
   "execution_count": 15,
   "metadata": {},
   "outputs": [
    {
     "name": "stdout",
     "output_type": "stream",
     "text": [
      "com\n",
      "org\n",
      "net\n",
      "in\n"
     ]
    }
   ],
   "source": [
    "web_list=[\"www.zframez.com\", \"www.wikipedia.org\", \"www.asp.net\", \"www.abcd.in\"] \n",
    "for web in web_list: #checks every element in list n store in web in each iteration split separates each  element of the\n",
    "    print(web.split('.')[2]) #string separated by seeing'.'& then [2]right or[-1]left index  of each element is printed "
   ]
  },
  {
   "cell_type": "markdown",
   "metadata": {},
   "source": [
    "<h3> Q no 3 : Write a program which can compute the factorial of a given numbers.</h3>\n",
    "<br/>\n",
    "<br/>\n",
    "<h4>**1 first take user input any number</h4>\n",
    "<h4>**2 calculate factorial of that input and then print the result to user</h4>"
   ]
  },
  {
   "cell_type": "code",
   "execution_count": 5,
   "metadata": {},
   "outputs": [
    {
     "name": "stdout",
     "output_type": "stream",
     "text": [
      "Enter any number: 5\n",
      "Factorial of 5 : 120\n"
     ]
    }
   ],
   "source": [
    "user_input = int(input(\"Enter any number: \"))\n",
    "factorial=1\n",
    "num=0\n",
    "if user_input < 0 :\n",
    "    print(\"Factorial of  a Negative number doesnt exists\")\n",
    "    print(\"Try again\")\n",
    "for x in range(0,user_input):   \n",
    "    num+=1\n",
    "    factorial=factorial*num\n",
    "print(\"Factorial of\",str(user_input),\":\",str(factorial))"
   ]
  },
  {
   "cell_type": "markdown",
   "metadata": {},
   "source": [
    "<h3>Q 4 (a) :  If you could invite anyone, living or deceased, to dinner, who\n",
    "would you invite? Make a list that includes at least three people you’d like to\n",
    "invite to dinner. Then use your list to print a message to each person, inviting\n",
    "them to dinner.</h3>"
   ]
  },
  {
   "cell_type": "code",
   "execution_count": 6,
   "metadata": {},
   "outputs": [
    {
     "name": "stdout",
     "output_type": "stream",
     "text": [
      "Mr Sohail your  are  invited to a party at our new office\n",
      "Mr Kashif your  are  invited to a party at our new office\n",
      "Mr Faizan your  are  invited to a party at our new office\n"
     ]
    }
   ],
   "source": [
    "list_of_people=[\"Sohail\",\"Kashif\",\"Faizan\"]\n",
    "for invitation in list_of_people: \n",
    "    print(\"Mr\" ,invitation,\"your  are  invited to a party at our new office\" )\n",
    "\n",
    "    "
   ]
  },
  {
   "cell_type": "markdown",
   "metadata": {},
   "source": [
    "<h3>Q 4 (b) : You just heard that one of your guests can’t make the\n",
    "dinner, so you need to send out a new set of invitations. You’ll have to think of\n",
    "someone else to invite.<br/></br><br/>\n",
    "•\t Start with your program from Q 4 (a). Add a print statement at the\n",
    "end of your program stating the name of the guest who can’t make it.<br/></br><br/>\n",
    "•\t Modify your list, replacing the name of the guest who can’t make it with\n",
    "the name of the new person you are inviting.<br/></br><br/>\n",
    "•\t Print a second set of invitation messages, one for each person who is still\n",
    "in your list.<br/></br><br/></h3>"
   ]
  },
  {
   "cell_type": "code",
   "execution_count": 7,
   "metadata": {},
   "outputs": [
    {
     "name": "stdout",
     "output_type": "stream",
     "text": [
      "Mr Sohail your  are  invited to a party at our new office\n",
      "Mr Kashif your  are  invited to a party at our new office\n",
      "Mr Faizan your  are  invited to a party at our new office\n",
      "We just heard Mr Kashif wouldnt be joining us at the party.We will find someone else\n"
     ]
    }
   ],
   "source": [
    "list_of_people=[\"Sohail\",\"Kashif\",\"Faizan\"] #replace kashif by salman\n",
    "for invitation in list_of_people: \n",
    "    print(\"Mr\" ,invitation,\"your  are  invited to a party at our new office\" )\n",
    "print(\"We just heard Mr\", list_of_people[1] ,\"wouldnt be joining us at the party.We will find someone else\")"
   ]
  },
  {
   "cell_type": "code",
   "execution_count": 8,
   "metadata": {},
   "outputs": [
    {
     "name": "stdout",
     "output_type": "stream",
     "text": [
      "Mr Sohail your  are  invited to a party at our new office\n",
      "Mr Salman your  are  invited to a party at our new office\n",
      "Mr Faizan your  are  invited to a party at our new office\n"
     ]
    }
   ],
   "source": [
    "list_of_people[1]='Salman'\n",
    "for invitation in list_of_people: \n",
    "    print(\"Mr\" ,invitation,\"your  are  invited to a party at our new office\" )"
   ]
  },
  {
   "cell_type": "markdown",
   "metadata": {},
   "source": [
    "<h3>Q 4 (c) : You just found a bigger dinner table, so now more space is\n",
    "available. Think of three more guests to invite to dinner.<br/></br><br/>\n",
    "•\t Start with your program from Q 4 (a) and (b) Add a print\n",
    "statement to the end of your program informing people that you found a\n",
    "bigger dinner table.<br/></br><br/>\n",
    "•\t Use insert() to add one new guest to the beginning of your list.<br/></br><br/>\n",
    "•\t Use insert() to add one new guest to the middle of your list.<br/></br><br/>\n",
    "•\t Use append() to add one new guest to the end of your list.<br/></br><br/>\n",
    "•\t Print a new set of invitation messages, one for each person in your list.<br/></br><br/></h3>"
   ]
  },
  {
   "cell_type": "code",
   "execution_count": 9,
   "metadata": {},
   "outputs": [
    {
     "name": "stdout",
     "output_type": "stream",
     "text": [
      "We just found a  bigger dinner table so we  are thing of  inviting  few more people\n"
     ]
    }
   ],
   "source": [
    "print(\"We just found a  bigger dinner table so we  are thing of  inviting  few more people\" )\n",
    "list_of_people.insert(0,\"Jahanzeb\")\n",
    "list_of_people.insert(2,\"Sana\")\n",
    "list_of_people.append(\"Faris\")"
   ]
  },
  {
   "cell_type": "code",
   "execution_count": 12,
   "metadata": {},
   "outputs": [
    {
     "name": "stdout",
     "output_type": "stream",
     "text": [
      "Mr Jahanzeb your  are  invited to a party at our new office\n",
      "Mr Sohail your  are  invited to a party at our new office\n",
      "Mr Sana your  are  invited to a party at our new office\n",
      "Mr Salman your  are  invited to a party at our new office\n",
      "Mr Faizan your  are  invited to a party at our new office\n",
      "Mr Faris your  are  invited to a party at our new office\n"
     ]
    }
   ],
   "source": [
    "for invitation in list_of_people: \n",
    "    print(\"Mr\" ,invitation,\"your  are  invited to a party at our new office\" )\n"
   ]
  },
  {
   "cell_type": "markdown",
   "metadata": {},
   "source": [
    "<h5> Q 5 : Here you have some data in variable below, your task is to make a list of specific word Surah then print the list and length of list</h5>\n"
   ]
  },
  {
   "cell_type": "code",
   "execution_count": 11,
   "metadata": {},
   "outputs": [
    {
     "name": "stdout",
     "output_type": "stream",
     "text": [
      "List of Surah in the given string ['Sura', 'Sura', 'Sura']\n",
      "The word 'Sura' is repeated 3 times in the given string \n"
     ]
    }
   ],
   "source": [
    "data = \"Sura I Who believe in the Unseen, Sura Are steadfast in prayer, And spend Sura out of what We Have provided for them;\"\n",
    "given_data = data.split()  #makes a list of the  given data\n",
    "List_of_Sura = []          #empty list of sura\n",
    "for search_sura in given_data :  #store each element of given data list 1by1 in  temp variable search sura\n",
    "    if search_sura == 'Sura' :    #temp variable search sura = string sura  \n",
    "        List_of_Sura.append(search_sura) #true append sura in  list of sura  \n",
    "print(\"List of Surah in the given string\",List_of_Sura)    \n",
    "print(\"The word 'Sura' is repeated\",len(List_of_Sura),\"times in the given string \")    "
   ]
  }
 ],
 "metadata": {
  "kernelspec": {
   "display_name": "Python 3",
   "language": "python",
   "name": "python3"
  },
  "language_info": {
   "codemirror_mode": {
    "name": "ipython",
    "version": 3
   },
   "file_extension": ".py",
   "mimetype": "text/x-python",
   "name": "python",
   "nbconvert_exporter": "python",
   "pygments_lexer": "ipython3",
   "version": "3.6.5"
  }
 },
 "nbformat": 4,
 "nbformat_minor": 2
}
